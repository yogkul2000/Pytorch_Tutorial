{
  "nbformat": 4,
  "nbformat_minor": 0,
  "metadata": {
    "colab": {
      "name": "MLP_PyTorch.ipynb",
      "provenance": [],
      "collapsed_sections": []
    },
    "kernelspec": {
      "name": "python3",
      "display_name": "Python 3"
    },
    "accelerator": "GPU"
  },
  "cells": [
    {
      "cell_type": "markdown",
      "metadata": {
        "id": "gyfdUaip2i2V",
        "colab_type": "text"
      },
      "source": [
        "This dataset involves predicting whether there is a structure in the atmosphere or not given radar returns."
      ]
    },
    {
      "cell_type": "markdown",
      "metadata": {
        "id": "NjbBz8Rr2o2S",
        "colab_type": "text"
      },
      "source": [
        "We will use a LabelEncoder to encode the string labels to integer values 0 and 1. The model will be fit on 67 percent of the data, and the remaining 33 percent will be used for evaluation, split using the train_test_split() function."
      ]
    },
    {
      "cell_type": "code",
      "metadata": {
        "id": "lkHVpg77zVyH",
        "colab_type": "code",
        "colab": {}
      },
      "source": [
        "#importing all the required libraries\n",
        "from numpy import vstack\n",
        "from pandas import read_csv\n",
        "from sklearn.preprocessing import LabelEncoder\n",
        "from sklearn.metrics import accuracy_score\n",
        "from torch.utils.data import Dataset\n",
        "from torch.utils.data import DataLoader\n",
        "from torch.utils.data import random_split\n",
        "from torch import Tensor\n",
        "from torch.nn import Linear\n",
        "from torch.nn import ReLU\n",
        "from torch.nn import Sigmoid\n",
        "from torch.nn import Module\n",
        "from torch.optim import SGD\n",
        "from torch.nn import BCELoss\n",
        "from torch.nn.init import kaiming_uniform_\n",
        "from torch.nn.init import xavier_uniform_"
      ],
      "execution_count": 0,
      "outputs": []
    },
    {
      "cell_type": "code",
      "metadata": {
        "id": "tdpKf_vg2ZND",
        "colab_type": "code",
        "colab": {}
      },
      "source": [
        "#dataset definiton\n",
        "class CSVDataset(Dataset):\n",
        "  #loading the dataset\n",
        "  def __init__(self, path):\n",
        "    #load csv file as dataframe\n",
        "    df = read_csv(path, header = None)\n",
        "    #store inputs and outputs\n",
        "    self.X = df.values[:, :-1]\n",
        "    self.y = df.values[:, -1]\n",
        "    #ensure input data is floats\n",
        "    self.X = self.X.astype('float32')\n",
        "    #label encode target and ensure the value are floats\n",
        "    self.y = LabelEncoder().fit_transform(self.y)\n",
        "    self.y = self.y.astype('float32')\n",
        "    self.y = self.y.reshape((len(self.y), 1))\n",
        "  #number of rows in the dataset  \n",
        "  def __len__(self):\n",
        "    return len(self.X)\n",
        "  #get a row at an index\n",
        "  def __getitem__(self, idx):\n",
        "    return [self.X[idx], self.y[idx]]\n",
        "  #get index for train and test rows\n",
        "  def get_splits(self, n_test = 0.33):\n",
        "    #determine sizes\n",
        "    test_size = round(n_test * len(self.X))\n",
        "    train_size = len(self.X) - test_size\n",
        "    #calculate the split\n",
        "    return random_split(self, [train_size, test_size])\n"
      ],
      "execution_count": 0,
      "outputs": []
    },
    {
      "cell_type": "code",
      "metadata": {
        "id": "EGhAt7J-4s2F",
        "colab_type": "code",
        "colab": {}
      },
      "source": [
        "# model definition\n",
        "class MLP(Module):\n",
        "    # define model elements\n",
        "    def __init__(self, n_inputs):\n",
        "        super(MLP, self).__init__()\n",
        "        # input to first hidden layer\n",
        "        self.hidden1 = Linear(n_inputs, 10)\n",
        "        kaiming_uniform_(self.hidden1.weight, nonlinearity='relu')\n",
        "        self.act1 = ReLU()\n",
        "        # second hidden layer\n",
        "        self.hidden2 = Linear(10, 8)\n",
        "        kaiming_uniform_(self.hidden2.weight, nonlinearity='relu')\n",
        "        self.act2 = ReLU()\n",
        "        # third hidden layer and output\n",
        "        self.hidden3 = Linear(8, 1)\n",
        "        xavier_uniform_(self.hidden3.weight)\n",
        "        self.act3 = Sigmoid()\n",
        " \n",
        "    # forward propagate input\n",
        "    def forward(self, X):\n",
        "        # input to first hidden layer\n",
        "        X = self.hidden1(X)\n",
        "        X = self.act1(X)\n",
        "         # second hidden layer\n",
        "        X = self.hidden2(X)\n",
        "        X = self.act2(X)\n",
        "        # third hidden layer and output\n",
        "        X = self.hidden3(X)\n",
        "        X = self.act3(X)\n",
        "        return X"
      ],
      "execution_count": 0,
      "outputs": []
    },
    {
      "cell_type": "code",
      "metadata": {
        "id": "6ZjGg4V463hP",
        "colab_type": "code",
        "colab": {}
      },
      "source": [
        "#prepare the dataset\n",
        "def prepare_data(path):\n",
        "    # load the dataset\n",
        "    dataset = CSVDataset(path)\n",
        "    # calculate split\n",
        "    train, test = dataset.get_splits()\n",
        "    # prepare data loaders\n",
        "    train_dl = DataLoader(train, batch_size=32, shuffle=True)\n",
        "    test_dl = DataLoader(test, batch_size=1024, shuffle=False)\n",
        "    return train_dl, test_dl"
      ],
      "execution_count": 0,
      "outputs": []
    },
    {
      "cell_type": "code",
      "metadata": {
        "id": "sbgYLTdM77CT",
        "colab_type": "code",
        "colab": {}
      },
      "source": [
        "#training the model\n",
        "def train_model(train_dl, model):\n",
        "  #define the optimization\n",
        "  criterion = BCELoss()\n",
        "  optimizer = SGD(model.parameters(), lr = 0.01, momentum = 0.9)\n",
        "  #enumerate epochs\n",
        "  for epoch in range(100):\n",
        "    #enumerate mini batches\n",
        "    for i, (inputs, targets) in enumerate(train_dl):\n",
        "      #clear the gradients\n",
        "      optimizer.zero_grad()\n",
        "      #compute the model output\n",
        "      yhat = model(inputs)\n",
        "      #calculate loss\n",
        "      loss = criterion(yhat, targets)\n",
        "      #credit assignment\n",
        "      loss.backward()\n",
        "      #update model weights\n",
        "      optimizer.step()"
      ],
      "execution_count": 0,
      "outputs": []
    },
    {
      "cell_type": "code",
      "metadata": {
        "id": "MvRuNIgi8AAY",
        "colab_type": "code",
        "colab": {}
      },
      "source": [
        "#model evaluation\n",
        "def evaluate_model(test_dl, model):\n",
        "    predictions, actuals = list(), list()\n",
        "    for i, (inputs, targets) in enumerate(test_dl):\n",
        "        # evaluate the model on the test set\n",
        "        yhat = model(inputs)\n",
        "        # retrieve numpy array\n",
        "        yhat = yhat.detach().numpy()\n",
        "        actual = targets.numpy()\n",
        "        actual = actual.reshape((len(actual), 1))\n",
        "        # round to class values\n",
        "        yhat = yhat.round()\n",
        "        # store\n",
        "        predictions.append(yhat)\n",
        "        actuals.append(actual)\n",
        "    predictions, actuals = vstack(predictions), vstack(actuals)\n",
        "    # calculate accuracy\n",
        "    acc = accuracy_score(actuals, predictions)\n",
        "    return acc"
      ],
      "execution_count": 0,
      "outputs": []
    },
    {
      "cell_type": "code",
      "metadata": {
        "id": "721BYn4t9z5x",
        "colab_type": "code",
        "colab": {}
      },
      "source": [
        "#make a class prediction for one row of data\n",
        "def predict(row, model):\n",
        "  #convert row to data\n",
        "  row = Tensor([row])\n",
        "  #make prediction\n",
        "  yhat = model(row)\n",
        "  #retrieve numpy array\n",
        "  yhat = yhat.detach().numpy()\n",
        "  return yhat\n",
        "  "
      ],
      "execution_count": 0,
      "outputs": []
    },
    {
      "cell_type": "code",
      "metadata": {
        "id": "F0jWECfz-I1v",
        "colab_type": "code",
        "colab": {}
      },
      "source": [
        "#prepare the data\n",
        "path = 'https://raw.githubusercontent.com/jbrownlee/Datasets/master/ionosphere.csv'"
      ],
      "execution_count": 0,
      "outputs": []
    },
    {
      "cell_type": "code",
      "metadata": {
        "id": "fz1nQyYO-Pub",
        "colab_type": "code",
        "colab": {}
      },
      "source": [
        "train_dl, test_dl = prepare_data(path)"
      ],
      "execution_count": 0,
      "outputs": []
    },
    {
      "cell_type": "code",
      "metadata": {
        "id": "wh9ids6c-hUx",
        "colab_type": "code",
        "colab": {
          "base_uri": "https://localhost:8080/",
          "height": 35
        },
        "outputId": "33d7922d-58db-4b6d-8b74-f8534284f3f5"
      },
      "source": [
        "print(len(train_dl.dataset), len(test_dl.dataset))"
      ],
      "execution_count": 13,
      "outputs": [
        {
          "output_type": "stream",
          "text": [
            "235 116\n"
          ],
          "name": "stdout"
        }
      ]
    },
    {
      "cell_type": "code",
      "metadata": {
        "id": "-zv7-L7q-ojS",
        "colab_type": "code",
        "colab": {}
      },
      "source": [
        "model = MLP(34)\n",
        "#train the model\n",
        "train_model(train_dl, model)"
      ],
      "execution_count": 0,
      "outputs": []
    },
    {
      "cell_type": "code",
      "metadata": {
        "id": "b77x82Ya-18o",
        "colab_type": "code",
        "colab": {
          "base_uri": "https://localhost:8080/",
          "height": 35
        },
        "outputId": "b4d3f7f3-c115-4adb-de87-b3fcd733fed3"
      },
      "source": [
        "#evaluate the model\n",
        "acc = evaluate_model(test_dl, model)\n",
        "print('Accuracy: %.3f' % acc)"
      ],
      "execution_count": 16,
      "outputs": [
        {
          "output_type": "stream",
          "text": [
            "Accuracy: 0.940\n"
          ],
          "name": "stdout"
        }
      ]
    }
  ]
}